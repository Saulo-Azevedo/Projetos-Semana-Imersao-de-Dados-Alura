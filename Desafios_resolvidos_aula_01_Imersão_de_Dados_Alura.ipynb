{
  "nbformat": 4,
  "nbformat_minor": 0,
  "metadata": {
    "colab": {
      "name": "Desafios resolvidos aula 01 - Imersão de Dados Alura.ipynb",
      "provenance": [],
      "collapsed_sections": [],
      "authorship_tag": "ABX9TyMHwQ6OkSdkEp1Q3sV5XmR/",
      "include_colab_link": true
    },
    "kernelspec": {
      "name": "python3",
      "display_name": "Python 3"
    }
  },
  "cells": [
    {
      "cell_type": "markdown",
      "metadata": {
        "id": "view-in-github",
        "colab_type": "text"
      },
      "source": [
        "<a href=\"https://colab.research.google.com/github/Saulo-Azevedo/Projetos-Semana-Imersao-de-Dados-Alura/blob/master/Desafios_resolvidos_aula_01_Imers%C3%A3o_de_Dados_Alura.ipynb\" target=\"_parent\"><img src=\"https://colab.research.google.com/assets/colab-badge.svg\" alt=\"Open In Colab\"/></a>"
      ]
    },
    {
      "cell_type": "code",
      "metadata": {
        "id": "7uz7OoD9U_t4"
      },
      "source": [
        "#Fazendo o import da biblioteca Pandas que lerá o arquivo CSV\n",
        "import pandas as pd\n",
        "# Fazendo a indicação  do local da fonte onde estão os dados\n",
        "fonte = \"https://github.com/alura-cursos/imersao-dados-2-2020/blob/master/MICRODADOS_ENEM_2019_SAMPLE_43278.csv?raw=true\"\n",
        "# Será usado a função read_csv para ler o arquivo\n",
        "dados = pd.read_csv(fonte)"
      ],
      "execution_count": null,
      "outputs": []
    },
    {
      "cell_type": "markdown",
      "metadata": {
        "id": "lKsCzinGXfEW"
      },
      "source": [
        "## #1) Primeiro desafio:\n",
        "Proporção de inscritos por idades"
      ]
    },
    {
      "cell_type": "code",
      "metadata": {
        "id": "Q8d6jqGKYith",
        "outputId": "19ff2a72-d7e0-466b-a095-df904c084d6a",
        "colab": {
          "base_uri": "https://localhost:8080/",
          "height": 419
        }
      },
      "source": [
        "proporcao_inscritos = dados[\"NU_IDADE\"].value_counts().sort_index() / len(dados[\"NU_IDADE\"]) * 100\n",
        "result_final = pd.DataFrame(proporcao_inscritos).reset_index(inplace=False)\n",
        "result_final.columns = ['IDADE','PERCENTUAL (%)']\n",
        "result_final"
      ],
      "execution_count": null,
      "outputs": [
        {
          "output_type": "execute_result",
          "data": {
            "text/html": [
              "<div>\n",
              "<style scoped>\n",
              "    .dataframe tbody tr th:only-of-type {\n",
              "        vertical-align: middle;\n",
              "    }\n",
              "\n",
              "    .dataframe tbody tr th {\n",
              "        vertical-align: top;\n",
              "    }\n",
              "\n",
              "    .dataframe thead th {\n",
              "        text-align: right;\n",
              "    }\n",
              "</style>\n",
              "<table border=\"1\" class=\"dataframe\">\n",
              "  <thead>\n",
              "    <tr style=\"text-align: right;\">\n",
              "      <th></th>\n",
              "      <th>IDADE</th>\n",
              "      <th>PERCENTUAL (%)</th>\n",
              "    </tr>\n",
              "  </thead>\n",
              "  <tbody>\n",
              "    <tr>\n",
              "      <th>0</th>\n",
              "      <td>13</td>\n",
              "      <td>0.003140</td>\n",
              "    </tr>\n",
              "    <tr>\n",
              "      <th>1</th>\n",
              "      <td>14</td>\n",
              "      <td>0.110692</td>\n",
              "    </tr>\n",
              "    <tr>\n",
              "      <th>2</th>\n",
              "      <td>15</td>\n",
              "      <td>1.577171</td>\n",
              "    </tr>\n",
              "    <tr>\n",
              "      <th>3</th>\n",
              "      <td>16</td>\n",
              "      <td>6.146962</td>\n",
              "    </tr>\n",
              "    <tr>\n",
              "      <th>4</th>\n",
              "      <td>17</td>\n",
              "      <td>16.687078</td>\n",
              "    </tr>\n",
              "    <tr>\n",
              "      <th>...</th>\n",
              "      <td>...</td>\n",
              "      <td>...</td>\n",
              "    </tr>\n",
              "    <tr>\n",
              "      <th>60</th>\n",
              "      <td>73</td>\n",
              "      <td>0.001570</td>\n",
              "    </tr>\n",
              "    <tr>\n",
              "      <th>61</th>\n",
              "      <td>75</td>\n",
              "      <td>0.001570</td>\n",
              "    </tr>\n",
              "    <tr>\n",
              "      <th>62</th>\n",
              "      <td>76</td>\n",
              "      <td>0.000785</td>\n",
              "    </tr>\n",
              "    <tr>\n",
              "      <th>63</th>\n",
              "      <td>77</td>\n",
              "      <td>0.000785</td>\n",
              "    </tr>\n",
              "    <tr>\n",
              "      <th>64</th>\n",
              "      <td>82</td>\n",
              "      <td>0.000785</td>\n",
              "    </tr>\n",
              "  </tbody>\n",
              "</table>\n",
              "<p>65 rows × 2 columns</p>\n",
              "</div>"
            ],
            "text/plain": [
              "    IDADE  PERCENTUAL (%)\n",
              "0      13        0.003140\n",
              "1      14        0.110692\n",
              "2      15        1.577171\n",
              "3      16        6.146962\n",
              "4      17       16.687078\n",
              "..    ...             ...\n",
              "60     73        0.001570\n",
              "61     75        0.001570\n",
              "62     76        0.000785\n",
              "63     77        0.000785\n",
              "64     82        0.000785\n",
              "\n",
              "[65 rows x 2 columns]"
            ]
          },
          "metadata": {
            "tags": []
          },
          "execution_count": 2
        }
      ]
    },
    {
      "cell_type": "code",
      "metadata": {
        "id": "MQIzSq9wagbP"
      },
      "source": [
        ""
      ],
      "execution_count": null,
      "outputs": []
    },
    {
      "cell_type": "markdown",
      "metadata": {
        "id": "ZWag6Gvobdno"
      },
      "source": [
        "## #2) Segundo desafio:\n",
        "Descobrir de quais estados são os inscritos com 13 anos"
      ]
    },
    {
      "cell_type": "code",
      "metadata": {
        "id": "bVDf41UVb2GU",
        "outputId": "81d7996e-9f7e-4912-fb00-56a9e153b054",
        "colab": {
          "base_uri": "https://localhost:8080/",
          "height": 173
        }
      },
      "source": [
        "result_final = dados.query(\"NU_IDADE == 13\") [\"SG_UF_RESIDENCIA\"].value_counts().sort_index()\n",
        "result_final = pd.DataFrame(result_final).reset_index(inplace=False)\n",
        "result_final.columns = ['UF','Quantidade']\n",
        "result_final"
      ],
      "execution_count": null,
      "outputs": [
        {
          "output_type": "execute_result",
          "data": {
            "text/html": [
              "<div>\n",
              "<style scoped>\n",
              "    .dataframe tbody tr th:only-of-type {\n",
              "        vertical-align: middle;\n",
              "    }\n",
              "\n",
              "    .dataframe tbody tr th {\n",
              "        vertical-align: top;\n",
              "    }\n",
              "\n",
              "    .dataframe thead th {\n",
              "        text-align: right;\n",
              "    }\n",
              "</style>\n",
              "<table border=\"1\" class=\"dataframe\">\n",
              "  <thead>\n",
              "    <tr style=\"text-align: right;\">\n",
              "      <th></th>\n",
              "      <th>UF</th>\n",
              "      <th>Quantidade</th>\n",
              "    </tr>\n",
              "  </thead>\n",
              "  <tbody>\n",
              "    <tr>\n",
              "      <th>0</th>\n",
              "      <td>AP</td>\n",
              "      <td>1</td>\n",
              "    </tr>\n",
              "    <tr>\n",
              "      <th>1</th>\n",
              "      <td>BA</td>\n",
              "      <td>1</td>\n",
              "    </tr>\n",
              "    <tr>\n",
              "      <th>2</th>\n",
              "      <td>MT</td>\n",
              "      <td>1</td>\n",
              "    </tr>\n",
              "    <tr>\n",
              "      <th>3</th>\n",
              "      <td>SP</td>\n",
              "      <td>1</td>\n",
              "    </tr>\n",
              "  </tbody>\n",
              "</table>\n",
              "</div>"
            ],
            "text/plain": [
              "   UF  Quantidade\n",
              "0  AP           1\n",
              "1  BA           1\n",
              "2  MT           1\n",
              "3  SP           1"
            ]
          },
          "metadata": {
            "tags": []
          },
          "execution_count": 3
        }
      ]
    },
    {
      "cell_type": "markdown",
      "metadata": {
        "id": "eJ46vQr-fZXu"
      },
      "source": [
        "# #3) Terceiro desafio:\n",
        "Inserir Título no Gráfico"
      ]
    },
    {
      "cell_type": "code",
      "metadata": {
        "id": "KUeoFPMffbFG",
        "outputId": "753f8702-4a39-48ed-b296-63561adc7e5e",
        "colab": {
          "base_uri": "https://localhost:8080/",
          "height": 483
        }
      },
      "source": [
        "import matplotlib.pyplot as plt\n",
        "plt.figure(figsize=(12, 7))\n",
        "plt.hist(dados[\"NU_IDADE\"],bins=25,color= \"#1E90FF\")\n",
        "plt.title('Distribuição de Idades Por Inscritos', fontdict={'fontsize':18})\n",
        "plt.xlabel('Idades',fontdict={'fontsize':14})\n",
        "plt.xlabel('Quantidade',fontdict={'fontsize':14})"
      ],
      "execution_count": null,
      "outputs": [
        {
          "output_type": "execute_result",
          "data": {
            "text/plain": [
              "Text(0.5, 0, 'Quantidade')"
            ]
          },
          "metadata": {
            "tags": []
          },
          "execution_count": 12
        },
        {
          "output_type": "display_data",
          "data": {
            "image/png": "[encoded data removed]",
            "text/plain": [
              "<Figure size 864x504 with 1 Axes>"
            ]
          },
          "metadata": {
            "tags": [],
            "needs_background": "light"
          }
        }
      ]
    },
    {
      "cell_type": "markdown",
      "metadata": {
        "id": "AQmrFpKGiyue"
      },
      "source": [
        "# #4) Quarto desafio\n",
        "Plotar o histograma das idades dos Treineiros e não Treineiros\n"
      ]
    },
    {
      "cell_type": "code",
      "metadata": {
        "id": "iaTJ2OPqjsa9",
        "outputId": "d8b68470-a2de-423a-a499-bcc5595982a3",
        "colab": {
          "base_uri": "https://localhost:8080/",
          "height": 730
        }
      },
      "source": [
        "import matplotlib.pyplot as plt\n",
        "treineiros = dados.query(\"IN_TREINEIRO == 1\")[\"NU_IDADE\"]\n",
        "n_treineiros = dados.query(\"IN_TREINEIRO == 0\")[\"NU_IDADE\"]\n",
        "\n",
        "plt.figure(figsize=(9,12))\n",
        "plt.subplot(211)\n",
        "treineiros.plot(kind='hist', grid=True, bins=12, color='#008B8B',title='Treineiros por Idade')\n",
        "plt.xlabel('Idade')\n",
        "plt.ylabel('Frequência')\n",
        "\n",
        "plt.subplot(212)\n",
        "n_treineiros.plot(kind='hist', grid=True, bins=12, color= '#3CB371',title='Não Treineiros por idade')\n",
        "plt.xlabel('Idade')\n",
        "plt.ylabel('Frequência')\n",
        "plt.show()"
      ],
      "execution_count": null,
      "outputs": [
        {
          "output_type": "display_data",
          "data": {
            "image/png": "[encoded data removed]",
            "text/plain": [
              "<Figure size 648x864 with 2 Axes>"
            ]
          },
          "metadata": {
            "tags": [],
            "needs_background": "light"
          }
        }
      ]
    },
    {
      "cell_type": "markdown",
      "metadata": {
        "id": "GfUJH1nNphR6"
      },
      "source": [
        "# #5) Quinto desafio\n",
        "Plotar as distribuições das provas de inglês e espanhol"
      ]
    },
    {
      "cell_type": "code",
      "metadata": {
        "id": "B5mk0Burpquc",
        "outputId": "a5da04de-f384-422f-ac31-688180d1701c",
        "colab": {
          "base_uri": "https://localhost:8080/",
          "height": 389
        }
      },
      "source": [
        "import seaborn as sns \n",
        "nota_ingles = dados.query(\"TP_LINGUA == 1\")[\"NU_NOTA_LC\"].values\n",
        "nota_espanhol = dados.query(\"TP_LINGUA==0\")[\"NU_NOTA_LC\"].values\n",
        "\n",
        "f, (ax1, ax2) = plt.subplots(1, 2, figsize=(10,6), sharex=True)\n",
        "\n",
        "sns.boxplot(data=nota_ingles, ax = ax1, color= \"#6495ED\")\n",
        "sns.boxplot(data=nota_espanhol, ax = ax2, color=\"#FFDEAD\")\n",
        "\n",
        "ax1.set_xlabel('Inglês')\n",
        "ax2.set_xlabel('Espanhol')\n",
        "\n",
        "plt.xticks([])"
      ],
      "execution_count": null,
      "outputs": [
        {
          "output_type": "execute_result",
          "data": {
            "text/plain": [
              "([], <a list of 0 Text major ticklabel objects>)"
            ]
          },
          "metadata": {
            "tags": []
          },
          "execution_count": 6
        },
        {
          "output_type": "display_data",
          "data": {
            "image/png": "[encoded data removed]",
            "text/plain": [
              "<Figure size 720x432 with 2 Axes>"
            ]
          },
          "metadata": {
            "tags": [],
            "needs_background": "light"
          }
        }
      ]
    }
  ]
}